{
 "cells": [
  {
   "cell_type": "markdown",
   "metadata": {},
   "source": [
    "# Programmatic Access to EMBL EBI #\n",
    "### (Exploring Biological Sequences 2019) ###\n",
    "******\n",
    "\n",
    "\n",
    "\n"
   ]
  },
  {
   "cell_type": "markdown",
   "metadata": {},
   "source": [
    "All the resourses at EMBL-EBI are freely available and can be explored from <https://www.ebi.ac.uk/services>. You can access the resoueces either using a browser interface or programatially ie, using webservices. A list of EMBL-EBI Web Services APIs for data retrival resourses is given in <https://bit.ly/EMBL-EBI-APIs> \n"
   ]
  },
  {
   "cell_type": "markdown",
   "metadata": {},
   "source": [
    "Here are some examples to access some of our services programatically:"
   ]
  },
  {
   "cell_type": "markdown",
   "metadata": {},
   "source": [
    "## 1. Retrieve data from DbFetch ##\n",
    "\n",
    "[DbFetch](https://www.ebi.ac.uk/Tools/dbfetch/) provides an easy way to retrieve entries from various databases at the EMBL-EBI in a consistent manner.\n",
    "\n",
    "You can reterive data from DbFetch using our web interface http://www.ebi.ac.uk/Tools/dbfetch/\n",
    "\n",
    "Required parameters: \n",
    "1. Database name\n",
    "2. Sequence id\n",
    "\n",
    "Optional Parameters\n",
    "1. Style (default: html)\n",
    "2. Format (default format is often the default format for the specified database)\n",
    "\n"
   ]
  },
  {
   "cell_type": "markdown",
   "metadata": {},
   "source": [
    "### 1. Retrieve data from DbFetch using REST URL ###"
   ]
  },
  {
   "cell_type": "markdown",
   "metadata": {},
   "source": [
    "To retrieve a coding sequence entry(eg: AAA59452) from the European Nucleotide Archive (ENA), we could open a browser window and try the following URL\n",
    "https://www.ebi.ac.uk/Tools/dbfetch/dbfetch?db=ena_coding;id=AAA59452\n",
    " \n",
    "\n",
    "database is _ena coding_ and the sequence id is _AAA59452_\n",
    "\n",
    "https://www.ebi.ac.uk/Tools/dbfetch/dbfetch?db=ena_coding;id=AAA59452;style=raw \n",
    "\n",
    "You can retrive the data using _curl_ or _wget_ commants"
   ]
  },
  {
   "cell_type": "code",
   "execution_count": 2,
   "metadata": {},
   "outputs": [
    {
     "name": "stdout",
     "output_type": "stream",
     "text": [
      "ID   AAA59452; SV 1; linear; genomic DNA; STD; HUM; 4149 BP.\r\n",
      "XX\r\n",
      "PA   AH002851.2\r\n",
      "XX\r\n",
      "DT   13-JUN-2016 (Rel. 129, Created)\r\n",
      "DT   13-JUN-2016 (Rel. 129, Last updated, Version 1)\r\n",
      "XX\r\n",
      "DE   Homo sapiens (human) insulin receptor\r\n",
      "XX\r\n",
      "KW   .\r\n",
      "XX\r\n",
      "OS   Homo sapiens (human)\r\n",
      "OC   Eukaryota; Metazoa; Chordata; Craniata; Vertebrata; Euteleostomi; Mammalia;\r\n",
      "OC   Eutheria; Euarchontoglires; Primates; Haplorrhini; Catarrhini; Hominidae;\r\n",
      "OC   Homo.\r\n",
      "XX\r\n",
      "RN   [1]\r\n",
      "RX   DOI; 10.1073/pnas.86.1.114.\r\n",
      "RX   PUBMED; 2911561.\r\n",
      "RA   Seino S., Seino M., Nishi S., Bell G.I.;\r\n",
      "RT   \"Structure of the human insulin receptor gene and characterization of its\r\n",
      "RT   promoter\";\r\n",
      "RL   Proc. Natl. Acad. Sci. U.S.A. 86(1):114-118(1989).\r\n",
      "XX\r\n",
      "RN   [2]\r\n",
      "RX   PUBMED; 2210055.\r\n",
      "RA   Seino S., Seino M., Bell G.I.;\r\n",
      "RT   \"Human insulin-receptor gene. Partial sequence and amplification of exons\r\n",
      "RT   by polymerase chain reaction\";\r\n",
      "RL   Diabetes 39(1):123-128(1990).\r\n",
      "XX\r\n",
      "DR   MD5; 4c7ab6fae5c07f3becb459d31ae2d7fc.\r\n",
      "XX\r\n",
      "FH   Key             Location/Qualifiers\r\n",
      "FH\r\n",
      "FT   source          1..4149\r\n",
      "FT                   /organism=\"Homo sapiens\"\r\n",
      "FT                   /map=\"19p13.3-p13.2\"\r\n",
      "FT                   /mol_type=\"genomic DNA\"\r\n",
      "FT                   /dev_stage=\"foetus\"\r\n",
      "FT                   /tissue_type=\"liver\"\r\n",
      "FT                   /db_xref=\"taxon:9606\"\r\n",
      "FT   CDS             join(AH002851.2:1824..1923,AH002851.2:2359..2910,\r\n",
      "FT                   AH002851.2:3327..3648,AH002851.2:4270..4418,\r\n",
      "FT                   AH002851.2:4903..5047,AH002851.2:5414..5628,\r\n",
      "FT                   AH002851.2:6156..6282,AH002851.2:6695..6945,\r\n",
      "FT                   AH002851.2:7178..7345,AH002851.2:7779..7980,\r\n",
      "FT                   AH002851.2:8332..8367,AH002851.2:8813..9087,\r\n",
      "FT                   AH002851.2:9564..9703,AH002851.2:10095..10254,\r\n",
      "FT                   AH002851.2:10588..10690,AH002851.2:11286..11353,\r\n",
      "FT                   AH002851.2:11741..11985,AH002851.2:12307..12417,\r\n",
      "FT                   AH002851.2:12622..12781,AH002851.2:13114..13243,\r\n",
      "FT                   AH002851.2:13488..13622,AH002851.2:13977..14331)\r\n",
      "FT                   /codon_start=1\r\n",
      "FT                   /gene=\"INSR\"\r\n",
      "FT                   /product=\"insulin receptor\"\r\n",
      "FT                   /note=\"precursor\"\r\n",
      "FT                   /protein_id=\"AAA59452.1\"\r\n",
      "FT                   /translation=\"MGTGGRRGAAAAPLLVAVAALLLGAAGHLYPGEVCPGMDIRNNLT\r\n",
      "FT                   RLHELENCSVIEGHLQILLMFKTRPEDFRDLSFPKLIMITDYLLLFRVYGLESLKDLFP\r\n",
      "FT                   NLTVIRGSRLFFNYALVIFEMVHLKELGLYNLMNITRGSVRIEKNNELCYLATIDWSRI\r\n",
      "FT                   LDSVEDNYIVLNKDDNEECGDICPGTAKGKTNCPATVINGQFVERCWTHSHCQKVCPTI\r\n",
      "FT                   CKSHGCTAEGLCCHSECLGNCSQPDDPTKCVACRNFYLDGRCVETCPPPYYHFQDWRCV\r\n",
      "FT                   NFSFCQDLHHKCKNSRRQGCHQYVIHNNKCIPECPSGYTMNSSNLLCTPCLGPCPKVCH\r\n",
      "FT                   LLEGEKTIDSVTSAQELRGCTVINGSLIINIRGGNNLAAELEANLGLIEEISGYLKIRR\r\n",
      "FT                   SYALVSLSFFRKLRLIRGETLEIGNYSFYALDNQNLRQLWDWSKHNLTITQGKLFFHYN\r\n",
      "FT                   PKLCLSEIHKMEEVSGTKGRQERNDIALKTNGDQASCENELLKFSYIRTSFDKILLRWE\r\n",
      "FT                   PYWPPDFRDLLGFMLFYKEAPYQNVTEFDGQDACGSNSWTVVDIDPPLRSNDPKSQNHP\r\n",
      "FT                   GWLMRGLKPWTQYAIFVKTLVTFSDERRTYGAKSDIIYVQTDATNPSVPLDPISVSNSS\r\n",
      "FT                   SQIILKWKPPSDPNGNITHYLVFWERQAEDSELFELDYCLKGLKLPSRTWSPPFESEDS\r\n",
      "FT                   QKHNQSEYEDSAGECCSCPKTDSQILKELEESSFRKTFEDYLHNVVFVPRKTSSGTGAE\r\n",
      "FT                   DPRPSRKRRSLGDVGNVTVAVPTVAAFPNTSSTSVPTSPEEHRPFEKVVNKESLVISGL\r\n",
      "FT                   RHFTGYRIELQACNQDTPEERCSVAAYVSARTMPEAKADDIVGPVTHEIFENNVVHLMW\r\n",
      "FT                   QEPKEPNGLIVLYEVSYRRYGDEELHLCVSRKHFALERGCRLRGLSPGNYSVRIRATSL\r\n",
      "FT                   AGNGSWTEPTYFYVTDYLDVPSNIAKIIIGPLIFVFLFSVVIGSIYLFLRKRQPDGPLG\r\n",
      "FT                   PLYASSNPEYLSASDVFPCSVYVPDEWEVSREKITLLRELGQGSFGMVYEGNARDIIKG\r\n",
      "FT                   EAETRVAVKTVNESASLRERIEFLNEASVMKGFTCHHVVRLLGVVSKGQPTLVVMELMA\r\n",
      "FT                   HGDLKSYLRSLRPEAENNPGRPPPTLQEMIQMAAEIADGMAYLNAKKFVHRDLAARNCM\r\n",
      "FT                   VAHDFTVKIGDFGMTRDIYETDYYRKGGKGLLPVRWMAPESLKDGVFTTSSDMWSFGVV\r\n",
      "FT                   LWEITSLAEQPYQGLSNEQVLKFVMDGGYLDQPDNCPERVTDLMRMCWQFNPKMRPTFL\r\n",
      "FT                   EIVNLLKDDLHPSFPEVSFFHSEENKAPESEELEMEFEDMENVPLDRSSHCQREEAGGR\r\n",
      "FT                   DGGSSLGFKRSYEEHIPYTHMNGGKKNGRILTLPRSNPS\"\r\n",
      "XX\r\n",
      "SQ   Sequence 4149 BP; 952 A; 1145 C; 1159 G; 893 T; 0 other;\r\n",
      "     atgggcaccg ggggccggcg gggagcggcg gccgcgccgc tgctggtggc ggtggccgcg        60\r\n",
      "     ctgctactgg gcgccgcggg ccacctgtac cccggagagg tgtgtcccgg catggatatc       120\r\n",
      "     cggaacaacc tcactaggtt gcatgagctg gagaattgct ctgtcatcga aggacacttg       180\r\n",
      "     cagatactct tgatgttcaa aacgaggccc gaagatttcc gagacctcag tttccccaaa       240\r\n",
      "     ctcatcatga tcactgatta cttgctgctc ttccgggtct atgggctcga gagcctgaag       300\r\n",
      "     gacctgttcc ccaacctcac ggtcatccgg ggatcacgac tgttctttaa ctacgcgctg       360\r\n",
      "     gtcatcttcg agatggttca cctcaaggaa ctcggcctct acaacctgat gaacatcacc       420\r\n",
      "     cggggttctg tccgcatcga gaagaacaat gagctctgtt acttggccac tatcgactgg       480\r\n",
      "     tcccgtatcc tggattccgt ggaggataat tacatcgtgt tgaacaaaga tgacaacgag       540\r\n",
      "     gagtgtggag acatctgtcc gggtaccgcg aagggcaaga ccaactgccc cgccaccgtc       600\r\n",
      "     atcaacgggc agtttgtcga acgatgttgg actcatagtc actgccagaa agtttgcccg       660\r\n",
      "     accatctgta agtcacacgg ctgcaccgcc gaaggcctct gttgccacag cgagtgcctg       720\r\n",
      "     ggcaactgtt ctcagcccga cgaccccacc aagtgcgtgg cctgccgcaa cttctacctg       780\r\n",
      "     gacggcaggt gtgtggagac ctgcccgccc ccgtactacc acttccagga ctggcgctgt       840\r\n",
      "     gtgaacttca gcttctgcca ggacctgcac cacaaatgca agaactcgcg gaggcagggc       900\r\n",
      "     tgccaccaat acgtcattca caacaacaag tgcatccctg agtgtccctc cgggtacacg       960\r\n",
      "     atgaattcca gcaacttgct gtgcacccca tgcctgggtc cctgtcccaa ggtgtgccac      1020\r\n",
      "     ctcctagaag gcgagaagac catcgactcg gtgacgtctg cccaggagct ccgaggatgc      1080\r\n",
      "     accgtcatca acgggagtct gatcatcaac attcgaggag gcaacaatct ggcagctgag      1140\r\n",
      "     ctagaagcca acctcggcct cattgaagaa atttcagggt atctaaaaat ccgccgatcc      1200\r\n",
      "     tacgctctgg tgtcactttc cttcttccgg aagttacgtc tgattcgagg agagaccttg      1260\r\n",
      "     gaaattggga actactcctt ctatgccttg gacaaccaga acctaaggca gctctgggac      1320\r\n",
      "     tggagcaaac acaacctcac catcactcag gggaaactct tcttccacta taaccccaaa      1380\r\n",
      "     ctctgcttgt cagaaatcca caagatggaa gaagtttcag gaaccaaggg gcgccaggag      1440\r\n",
      "     agaaacgaca ttgccctgaa gaccaatggg gaccaggcat cctgtgaaaa tgagttactt      1500\r\n",
      "     aaattttctt acattcggac atcttttgac aagatcttgc tgagatggga gccgtactgg      1560\r\n",
      "     ccccccgact tccgagacct cttggggttc atgctgttct acaaagaggc cccttatcag      1620\r\n",
      "     aatgtgacgg agttcgatgg gcaggatgcg tgtggttcca acagttggac ggtggtagac      1680\r\n",
      "     attgacccac ccctgaggtc caacgacccc aaatcacaga accacccagg gtggctgatg      1740\r\n",
      "     cggggtctca agccctggac ccagtatgcc atctttgtga agaccctggt caccttttcg      1800\r\n",
      "     gatgaacgcc ggacctatgg ggccaagagt gacatcattt atgtccagac agatgccacc      1860\r\n",
      "     aacccctctg tgcccctgga tccaatctca gtgtctaact catcatccca gattattctg      1920\r\n",
      "     aagtggaaac caccctccga ccccaatggc aacatcaccc actacctggt tttctgggag      1980\r\n",
      "     aggcaggcgg aagacagtga gctgttcgag ctggattatt gcctcaaagg gctgaagctg      2040\r\n",
      "     ccctcgagga cctggtctcc accattcgag tctgaagatt ctcagaagca caaccagagt      2100\r\n",
      "     gagtatgagg attcggccgg cgaatgctgc tcctgtccaa agacagactc tcagatcctg      2160\r\n",
      "     aaggagctgg aggagtcctc gtttaggaag acgtttgagg attacctgca caacgtggtt      2220\r\n",
      "     ttcgtcccca gaaaaacctc ttcaggcact ggtgccgagg accctaggcc atctcggaaa      2280\r\n",
      "     cgcaggtccc ttggcgatgt tgggaatgtg acggtggccg tgcccacggt ggcagctttc      2340\r\n",
      "     cccaacactt cctcgaccag cgtgcccacg agtccggagg agcacaggcc ttttgagaag      2400\r\n",
      "     gtggtgaaca aggagtcgct ggtcatctcc ggcttgcgac acttcacggg ctatcgcatc      2460\r\n",
      "     gagctgcagg cttgcaacca ggacacccct gaggaacggt gcagtgtggc agcctacgtc      2520\r\n",
      "     agtgcgagga ccatgcctga agccaaggct gatgacattg ttggccctgt gacgcatgaa      2580\r\n",
      "     atctttgaga acaacgtcgt ccacttgatg tggcaggagc cgaaggagcc caatggtctg      2640\r\n",
      "     atcgtgctgt atgaagtgag ttatcggcga tatggtgatg aggagctgca tctctgcgtc      2700\r\n",
      "     tcccgcaagc acttcgctct ggaacggggc tgcaggctgc gtgggctgtc accggggaac      2760\r\n",
      "     tacagcgtgc gaatccgggc cacctccctt gcgggcaacg gctcttggac ggaacccacc      2820\r\n",
      "     tatttctacg tgacagacta tttagacgtc ccgtcaaata ttgcaaaaat tatcatcggc      2880\r\n",
      "     cccctcatct ttgtctttct cttcagtgtt gtgattggaa gtatttatct attcctgaga      2940\r\n",
      "     aagaggcagc cagatgggcc gctgggaccg ctttacgctt cttcaaaccc tgagtatctc      3000\r\n",
      "     agtgccagtg atgtgtttcc atgctctgtg tacgtgccgg acgagtggga ggtgtctcga      3060\r\n",
      "     gagaagatca ccctccttcg agagctgggg cagggctcct tcggcatggt gtatgagggc      3120\r\n",
      "     aatgccaggg acatcatcaa gggtgaggca gagacccgcg tggcggtgaa gacggtcaac      3180\r\n",
      "     gagtcagcca gtctccgaga gcggattgag ttcctcaatg aggcctcggt catgaagggc      3240\r\n",
      "     ttcacctgcc atcacgtggt gcgcctcctg ggagtggtgt ccaagggcca gcccacgctg      3300\r\n",
      "     gtggtgatgg agctgatggc tcacggagac ctgaagagct acctccgttc tctgcggcca      3360\r\n",
      "     gaggctgaga ataatcctgg ccgccctccc cctacccttc aagagatgat tcagatggcg      3420\r\n",
      "     gcagagattg ctgacgggat ggcctacctg aacgccaaga agtttgtgca tcgggacctg      3480\r\n",
      "     gcagcgagaa actgcatggt cgcccatgat tttactgtca aaattggaga ctttggaatg      3540\r\n",
      "     accagagaca tctatgaaac ggattactac cggaaagggg gcaagggtct gctccctgta      3600\r\n",
      "     cggtggatgg caccggagtc cctgaaggat ggggtcttca ccacttcttc tgacatgtgg      3660\r\n",
      "     tcctttggcg tggtcctttg ggaaatcacc agcttggcag aacagcctta ccaaggcctg      3720\r\n",
      "     tctaatgaac aggtgttgaa atttgtcatg gatggagggt atctggatca acccgacaac      3780\r\n",
      "     tgtccagaga gagtcactga cctcatgcgc atgtgctggc aattcaaccc caagatgagg      3840\r\n",
      "     ccaaccttcc tggagattgt caacctgctc aaggacgacc tgcaccccag ctttccagag      3900\r\n",
      "     gtgtcgttct tccacagcga ggagaacaag gctcccgaga gtgaggagct ggagatggag      3960\r\n",
      "     tttgaggaca tggagaatgt gcccctggac cgttcctcgc actgtcagag ggaggaggcg      4020\r\n",
      "     gggggccggg atggagggtc ctcgctgggt ttcaagcgga gctacgagga acacatccct      4080\r\n",
      "     tacacacaca tgaacggagg caagaaaaac gggcggattc tgaccttgcc tcggtccaat      4140\r\n",
      "     ccttcctaa                                                              4149\r\n",
      "//\r\n"
     ]
    }
   ],
   "source": [
    "!curl -X GET \"https://www.ebi.ac.uk/Tools/dbfetch/dbfetch?db=ena_coding;id=AAA59452;style=raw\""
   ]
  },
  {
   "cell_type": "code",
   "execution_count": 3,
   "metadata": {},
   "outputs": [
    {
     "name": "stdout",
     "output_type": "stream",
     "text": [
      "  % Total    % Received % Xferd  Average Speed   Time    Time     Time  Current\n",
      "                                 Dload  Upload   Total   Spent    Left  Speed\n",
      "100  9911    0  9911    0     0  24411      0 --:--:-- --:--:-- --:--:-- 24411\n"
     ]
    }
   ],
   "source": [
    "!curl -X GET 'https://www.ebi.ac.uk/Tools/dbfetch/dbfetch?db=ena_coding;id=AAA59452;style=raw' -o AAA59452.txt"
   ]
  },
  {
   "cell_type": "code",
   "execution_count": 4,
   "metadata": {},
   "outputs": [
    {
     "name": "stdout",
     "output_type": "stream",
     "text": [
      "ID   AAA59452; SV 1; linear; genomic DNA; STD; HUM; 4149 BP.\r\n",
      "XX\r\n",
      "PA   AH002851.2\r\n",
      "XX\r\n",
      "DT   13-JUN-2016 (Rel. 129, Created)\r\n",
      "DT   13-JUN-2016 (Rel. 129, Last updated, Version 1)\r\n",
      "XX\r\n",
      "DE   Homo sapiens (human) insulin receptor\r\n",
      "XX\r\n",
      "KW   .\r\n",
      "XX\r\n",
      "OS   Homo sapiens (human)\r\n",
      "OC   Eukaryota; Metazoa; Chordata; Craniata; Vertebrata; Euteleostomi; Mammalia;\r\n",
      "OC   Eutheria; Euarchontoglires; Primates; Haplorrhini; Catarrhini; Hominidae;\r\n",
      "OC   Homo.\r\n",
      "XX\r\n",
      "RN   [1]\r\n",
      "RX   DOI; 10.1073/pnas.86.1.114.\r\n",
      "RX   PUBMED; 2911561.\r\n",
      "RA   Seino S., Seino M., Nishi S., Bell G.I.;\r\n",
      "RT   \"Structure of the human insulin receptor gene and characterization of its\r\n",
      "RT   promoter\";\r\n",
      "RL   Proc. Natl. Acad. Sci. U.S.A. 86(1):114-118(1989).\r\n",
      "XX\r\n",
      "RN   [2]\r\n",
      "RX   PUBMED; 2210055.\r\n",
      "RA   Seino S., Seino M., Bell G.I.;\r\n",
      "RT   \"Human insulin-receptor gene. Partial sequence and amplification of exons\r\n",
      "RT   by polymerase chain reaction\";\r\n",
      "RL   Diabetes 39(1):123-128(1990).\r\n"
     ]
    }
   ],
   "source": [
    "!head -n 30 AAA59452.txt"
   ]
  },
  {
   "cell_type": "code",
   "execution_count": 5,
   "metadata": {},
   "outputs": [
    {
     "name": "stdout",
     "output_type": "stream",
     "text": [
      "  % Total    % Received % Xferd  Average Speed   Time    Time     Time  Current\n",
      "                                 Dload  Upload   Total   Spent    Left  Speed\n",
      "100  4282    0  4282    0     0  16858      0 --:--:-- --:--:-- --:--:-- 16924\n"
     ]
    }
   ],
   "source": [
    "!curl -X GET 'https://www.ebi.ac.uk/Tools/dbfetch/dbfetch?db=ena_coding;id=AAA59452;style=raw;format=fasta' -o AAA59452.fasta"
   ]
  },
  {
   "cell_type": "code",
   "execution_count": 6,
   "metadata": {},
   "outputs": [
    {
     "name": "stdout",
     "output_type": "stream",
     "text": [
      ">ENA|AAA59452|AAA59452.1 Homo sapiens (human) insulin receptor\r\n",
      "ATGGGCACCGGGGGCCGGCGGGGAGCGGCGGCCGCGCCGCTGCTGGTGGCGGTGGCCGCG\r\n",
      "CTGCTACTGGGCGCCGCGGGCCACCTGTACCCCGGAGAGGTGTGTCCCGGCATGGATATC\r\n",
      "CGGAACAACCTCACTAGGTTGCATGAGCTGGAGAATTGCTCTGTCATCGAAGGACACTTG\r\n",
      "CAGATACTCTTGATGTTCAAAACGAGGCCCGAAGATTTCCGAGACCTCAGTTTCCCCAAA\r\n",
      "CTCATCATGATCACTGATTACTTGCTGCTCTTCCGGGTCTATGGGCTCGAGAGCCTGAAG\r\n",
      "GACCTGTTCCCCAACCTCACGGTCATCCGGGGATCACGACTGTTCTTTAACTACGCGCTG\r\n",
      "GTCATCTTCGAGATGGTTCACCTCAAGGAACTCGGCCTCTACAACCTGATGAACATCACC\r\n",
      "CGGGGTTCTGTCCGCATCGAGAAGAACAATGAGCTCTGTTACTTGGCCACTATCGACTGG\r\n",
      "TCCCGTATCCTGGATTCCGTGGAGGATAATTACATCGTGTTGAACAAAGATGACAACGAG\r\n"
     ]
    }
   ],
   "source": [
    "!head AAA59452.fasta"
   ]
  },
  {
   "cell_type": "markdown",
   "metadata": {},
   "source": [
    "### 2. Retrieve data from DbFetch using Web Service Client ###\n"
   ]
  },
  {
   "cell_type": "markdown",
   "metadata": {},
   "source": [
    "Python, Perl and Java clients are provided for EBI Tools Web Services from https://github.com/ebi-wp/webservice-clients."
   ]
  },
  {
   "cell_type": "markdown",
   "metadata": {},
   "source": [
    "To simplify the process we can download one of the clients (e.g. DBfetch) and run it in alternative to using the curl command."
   ]
  },
  {
   "cell_type": "markdown",
   "metadata": {},
   "source": [
    "Get the raw client from GitHub"
   ]
  },
  {
   "cell_type": "code",
   "execution_count": null,
   "metadata": {},
   "outputs": [],
   "source": [
    "!wget https://raw.githubusercontent.com/ebi-wp/webservice-clients/master/python/dbfetch.py"
   ]
  },
  {
   "cell_type": "markdown",
   "metadata": {},
   "source": [
    "One can learn more about available parameters and how to use them by typing python <client_name>.py --help"
   ]
  },
  {
   "cell_type": "code",
   "execution_count": null,
   "metadata": {},
   "outputs": [],
   "source": [
    "!python dbfetch.py --help"
   ]
  },
  {
   "cell_type": "markdown",
   "metadata": {},
   "source": [
    "Retrieving the same sequence in fasta format from ENA could be done using the Python client as follows:"
   ]
  },
  {
   "cell_type": "code",
   "execution_count": null,
   "metadata": {},
   "outputs": [],
   "source": [
    "!python dbfetch.py fetchData ena_coding:AAA59452 fasta"
   ]
  },
  {
   "cell_type": "markdown",
   "metadata": {},
   "source": [
    "If the above command failed, some dependencies might be missing. See instructions for installing them in https://github.com/ebi-wp/webservice-clients"
   ]
  },
  {
   "cell_type": "markdown",
   "metadata": {},
   "source": [
    "## 2. Run NCBI Blast+ ##"
   ]
  },
  {
   "cell_type": "markdown",
   "metadata": {},
   "source": [
    "In addition to data retrieval, EMBL-EBI provides Web Services for popular Bioinformatics Applications such as NCBI BLAST+, Clustal Omega, InterProScan 5, and HMMER. Programmatic access to these services can be explored from https://www.ebi.ac.uk/Tools/webservices. The common API can be browsed from https://www.ebi.ac.uk/Tools/common/tools/help/\n",
    "\n",
    "Since data needs to be passed to the server for the application to run (i.e. some input sequence data, in this case), the request uses the POST HTTP verb.\n",
    "In this example, we can run NCBI BLAST+ using Swissprot database (uniprotkb_swissprot) and using a UniProt sequence accession number as the input."
   ]
  },
  {
   "cell_type": "markdown",
   "metadata": {},
   "source": [
    "### 1.Run NCBI Blast+ using using REST URL\n"
   ]
  },
  {
   "cell_type": "code",
   "execution_count": null,
   "metadata": {},
   "outputs": [],
   "source": [
    "!curl -X POST --header 'Content-Type: application/x-www-form-urlencoded' --header 'Accept: text/plain' -d 'email=test@ebi.ac.uk&program=blastp&stype=protein&sequence=sp:wap_rat&database=uniprotkb_swissprot' 'https://www.ebi.ac.uk/Tools/services/rest/ncbiblast/run'"
   ]
  },
  {
   "cell_type": "markdown",
   "metadata": {},
   "source": [
    "As you can see, in this case we passed `-X POST` instead of `-X GET`. Additionally we needed to pass `-d or --data`. The various parameter options were separated with `&` symbol. \n",
    "The parameters were:\n",
    "* `email=test\\@ebi.ac.uk`\n",
    "* `program=blastp`\n",
    "* `stype=protein` \n",
    "* `sequence=sp:wap_rat`\n",
    "* `database=uniprotkb_swissprot`"
   ]
  },
  {
   "cell_type": "markdown",
   "metadata": {},
   "source": [
    "For retrieving a BLAST output for the previous job with (example `jobid=ncbiblast-R20190225-110224-0172-5825946-p1m`) we need to use a different endpoint `/result/{jobId}/{resultType}`. In this case we can retrieve the default BLAST output format wich has been named `out`."
   ]
  },
  {
   "cell_type": "code",
   "execution_count": null,
   "metadata": {},
   "outputs": [],
   "source": [
    "!curl -X GET --header 'Accept: text/plain' 'https://www.ebi.ac.uk/Tools/services/rest/ncbiblast/result/ncbiblast-R20190225-110224-0172-5825946-p1m/out' -o blast.txt"
   ]
  },
  {
   "cell_type": "code",
   "execution_count": null,
   "metadata": {},
   "outputs": [],
   "source": [
    "!head -n 50 blast.txt"
   ]
  },
  {
   "cell_type": "markdown",
   "metadata": {},
   "source": [
    "### 2. Run NCBI Blast+ using Web Service Client"
   ]
  },
  {
   "cell_type": "markdown",
   "metadata": {},
   "source": [
    "Similarly to what we have done for Dbfetch, we can download the clients and perform various sequence analysis using the available Bioinformatics Applications. In this example we run the same BLAST sequence search as we performed with curl."
   ]
  },
  {
   "cell_type": "code",
   "execution_count": null,
   "metadata": {},
   "outputs": [],
   "source": [
    "# note: we are getting the raw client from GitHub\n",
    "!wget https://raw.githubusercontent.com/ebi-wp/webservice-clients/master/python/ncbiblast.py"
   ]
  },
  {
   "cell_type": "code",
   "execution_count": null,
   "metadata": {},
   "outputs": [],
   "source": [
    "# the clients can run the job and return outputs on the same call (synchronously as below, or asynchronously)\n",
    "!python ncbiblast.py --email test@ebi.ac.uk --program blastp --stype protein --sequence sp:wap_rat --database uniprotkb_swissprot --outformat out --outfile wap_rat"
   ]
  },
  {
   "cell_type": "markdown",
   "metadata": {},
   "source": [
    "### Useful links\n",
    "\n",
    "EMBL-EBI services and data resources: https://www.ebi.ac.uk/services  \n",
    "EMBL-EBI APIs:https://bit.ly/EMBL-EBI-APIs  \n",
    "EMBL-EBI Web Services General Documentation: https://www.ebi.ac.uk/Tools/webservices  \n",
    "Web Service Clients for EBI Tools and EBI Search: https://github.com/ebi-wp/webservice-clients  \n",
    "RESTful API (SWAGGER) User Interface for EBI Tools: https://www.ebi.ac.uk/Tools/common/tools/help/  \n",
    "RESTful API (SWAGGER) User Interface for EBI Search: https://www.ebi.ac.uk/ebisearch/swagger.ebi  \n",
    "\n",
    "**Contact us via Help and Support at https://www.ebi.ac.uk/support/webservices**"
   ]
  }
 ],
 "metadata": {
  "kernelspec": {
   "display_name": "Python 2",
   "language": "python",
   "name": "python2"
  },
  "language_info": {
   "codemirror_mode": {
    "name": "ipython",
    "version": 2
   },
   "file_extension": ".py",
   "mimetype": "text/x-python",
   "name": "python",
   "nbconvert_exporter": "python",
   "pygments_lexer": "ipython2",
   "version": "2.7.15rc1"
  }
 },
 "nbformat": 4,
 "nbformat_minor": 2
}
